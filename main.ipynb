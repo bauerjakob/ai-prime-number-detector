{
 "cells": [
  {
   "cell_type": "markdown",
   "source": [
    "# Prime Number Detector"
   ],
   "metadata": {
    "collapsed": false
   },
   "id": "54c6620e176e1049"
  },
  {
   "cell_type": "markdown",
   "source": [
    "## The classic way"
   ],
   "metadata": {
    "collapsed": false
   },
   "id": "77eccbc79b005b2c"
  },
  {
   "cell_type": "code",
   "execution_count": null,
   "outputs": [],
   "source": [],
   "metadata": {
    "collapsed": false
   },
   "id": "f15602903fca5732"
  },
  {
   "cell_type": "code",
   "execution_count": 2,
   "outputs": [],
   "source": [
    "import numpy as np\n",
    "\n",
    "def is_prime_number(number: int) -> bool:\n",
    "    if number <= 1:\n",
    "        return False\n",
    "    for i in range(2, int(np.sqrt(number)) + 1):\n",
    "        if number % i == 0:\n",
    "            return False\n",
    "    return True\n"
   ],
   "metadata": {
    "collapsed": false,
    "ExecuteTime": {
     "end_time": "2023-12-24T11:35:43.817536Z",
     "start_time": "2023-12-24T11:35:42.854281Z"
    }
   },
   "id": "6513b9f8f66385b5"
  },
  {
   "cell_type": "code",
   "execution_count": 3,
   "outputs": [
    {
     "data": {
      "text/plain": "True"
     },
     "execution_count": 3,
     "metadata": {},
     "output_type": "execute_result"
    }
   ],
   "source": [
    "is_prime_number(5)"
   ],
   "metadata": {
    "collapsed": false,
    "ExecuteTime": {
     "end_time": "2023-12-24T11:35:44.395819Z",
     "start_time": "2023-12-24T11:35:44.378238Z"
    }
   },
   "id": "9059280fa6f4d1f5"
  },
  {
   "cell_type": "code",
   "execution_count": 4,
   "outputs": [
    {
     "data": {
      "text/plain": "False"
     },
     "execution_count": 4,
     "metadata": {},
     "output_type": "execute_result"
    }
   ],
   "source": [
    "is_prime_number(8)"
   ],
   "metadata": {
    "collapsed": false,
    "ExecuteTime": {
     "end_time": "2023-12-24T11:35:48.436988Z",
     "start_time": "2023-12-24T11:35:48.426698Z"
    }
   },
   "id": "795da60f632c866f"
  },
  {
   "cell_type": "markdown",
   "source": [
    "## Compare both detectors\n",
    "\n",
    "### Load test dataset"
   ],
   "metadata": {
    "collapsed": false
   },
   "id": "562d59e8dc9b53ee"
  },
  {
   "cell_type": "code",
   "execution_count": 17,
   "outputs": [],
   "source": [
    "import json\n",
    "from utils.stopwatch import Stopwatch\n",
    "\n",
    "testDataset = []\n",
    "\n",
    "with open('./output/testDataset.json') as f:\n",
    "    testDataset = json.load(f)\n",
    "\n",
    "test_rounds = 100"
   ],
   "metadata": {
    "collapsed": false,
    "ExecuteTime": {
     "end_time": "2023-12-26T09:23:27.332901Z",
     "start_time": "2023-12-26T09:23:27.331881Z"
    }
   },
   "id": "deac20b0f0961086"
  },
  {
   "cell_type": "code",
   "execution_count": 18,
   "outputs": [
    {
     "name": "stdout",
     "output_type": "stream",
     "text": [
      "1.4865601062774658\n"
     ]
    }
   ],
   "source": [
    "sw = Stopwatch()\n",
    "sw.start()\n",
    "for i in range(test_rounds):\n",
    "    for number in testDataset:\n",
    "        is_prime_number(number)    \n",
    "    \n",
    "classicElapsed = sw.time_elapsed\n",
    "\n",
    "print(classicElapsed)"
   ],
   "metadata": {
    "collapsed": false,
    "ExecuteTime": {
     "end_time": "2023-12-26T09:23:31.835605Z",
     "start_time": "2023-12-26T09:23:30.423415Z"
    }
   },
   "id": "9c7b14b9427ed3ac"
  },
  {
   "cell_type": "code",
   "execution_count": 10,
   "outputs": [],
   "source": [
    "from model.prime_number_model import PrimeNumberModel\n",
    "\n",
    "model = PrimeNumberModel() \n",
    "\n",
    "sw = Stopwatch()\n",
    "sw.start()\n",
    "for i in range(test_rounds):\n",
    "    for nunber in testDataset:\n",
    "        \n",
    "        model()\n",
    "        "
   ],
   "metadata": {
    "collapsed": false,
    "ExecuteTime": {
     "end_time": "2023-12-24T11:40:42.031343Z",
     "start_time": "2023-12-24T11:40:42.028445Z"
    }
   },
   "id": "f29dce053a230477"
  },
  {
   "cell_type": "code",
   "execution_count": null,
   "outputs": [],
   "source": [],
   "metadata": {
    "collapsed": false
   },
   "id": "c3e03408874f5f99"
  }
 ],
 "metadata": {
  "kernelspec": {
   "display_name": "Python 3",
   "language": "python",
   "name": "python3"
  },
  "language_info": {
   "codemirror_mode": {
    "name": "ipython",
    "version": 2
   },
   "file_extension": ".py",
   "mimetype": "text/x-python",
   "name": "python",
   "nbconvert_exporter": "python",
   "pygments_lexer": "ipython2",
   "version": "2.7.6"
  }
 },
 "nbformat": 4,
 "nbformat_minor": 5
}
